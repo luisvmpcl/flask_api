{
  "nbformat": 4,
  "nbformat_minor": 0,
  "metadata": {
    "colab": {
      "name": "flask_notebook.ipynb",
      "version": "0.3.2",
      "provenance": []
    },
    "kernelspec": {
      "name": "python3",
      "display_name": "Python 3"
    }
  },
  "cells": [
    {
      "cell_type": "markdown",
      "metadata": {
        "id": "2BnUM3SjAfiq",
        "colab_type": "text"
      },
      "source": [
        "#Code used for my talk 'Cómo diseñar APIs en instantes usando Flask' at PyconES 2018\n",
        "###(How to create APIs in no time with Flask)\n",
        "\n",
        "To install the required packages:\n",
        "\n",
        "* pip install Flask\n",
        "* pip install Flask-SQLAlchemy\n",
        "\n",
        "\n",
        "---\n",
        "\n"
      ]
    },
    {
      "cell_type": "markdown",
      "metadata": {
        "id": "9F31W93FBKVk",
        "colab_type": "text"
      },
      "source": [
        "Let's create a 'Hello World' in Flask"
      ]
    },
    {
      "cell_type": "code",
      "metadata": {
        "id": "fDZz9CMUw2NQ",
        "colab_type": "code",
        "colab": {}
      },
      "source": [
        "from flask import Flask\n",
        "\n",
        "app = Flask(__name__)\n",
        "\n",
        "@app.route('/')\n",
        "def hello():\n",
        "  return 'hello world!'\n",
        "\n",
        "if __name__ == '__main__':\n",
        "  app.run(debug=True)"
      ],
      "execution_count": 0,
      "outputs": []
    },
    {
      "cell_type": "markdown",
      "metadata": {
        "id": "2xDIdKWkzp9E",
        "colab_type": "text"
      },
      "source": [
        "Let's return a Json"
      ]
    },
    {
      "cell_type": "code",
      "metadata": {
        "id": "ZyacHb9Mz1KH",
        "colab_type": "code",
        "colab": {}
      },
      "source": [
        "from flask import Flask, jsonify\n",
        "\n",
        "app = Flask(__name__)\n",
        "\n",
        "@app.route('/')\n",
        "def hello():\n",
        "  return jsonify({'message' : 'hello world!'})\n",
        "\n",
        "if __name__ == '__main__':\n",
        "  app.run(debug=True)"
      ],
      "execution_count": 0,
      "outputs": []
    },
    {
      "cell_type": "markdown",
      "metadata": {
        "id": "fR7XFb8J0EnH",
        "colab_type": "text"
      },
      "source": [
        "###Let's build a Pizza API!"
      ]
    },
    {
      "cell_type": "code",
      "metadata": {
        "id": "_gPHzguE0Ib-",
        "colab_type": "code",
        "colab": {}
      },
      "source": [
        "from flask import Flask, jsonify\n",
        "\n",
        "app = Flask(__name__)\n",
        "\n",
        "@app.route('/')\n",
        "\n",
        "def getPizza():\n",
        "  pizza = {\n",
        "      'name': 'hawaian',\n",
        "      'image_url': 'http://example.com/hawaian_pizza.jpg'\n",
        "  }\n",
        "  return jsonify(pizza)\n",
        "\n",
        "if __name__ == '__main__':\n",
        "  app.run(debug=True)"
      ],
      "execution_count": 0,
      "outputs": []
    },
    {
      "cell_type": "markdown",
      "metadata": {
        "id": "_hZ2XRIl0fdj",
        "colab_type": "text"
      },
      "source": [
        "We can also return a dictionary of pizzas to store multiple pizzas"
      ]
    },
    {
      "cell_type": "code",
      "metadata": {
        "id": "AE7oapZ70nlI",
        "colab_type": "code",
        "colab": {}
      },
      "source": [
        "from flask import Flask, jsonify\n",
        "\n",
        "app = Flask(__name__)\n",
        "\n",
        "pizza = [\n",
        "    {\n",
        "        'name': 'hawaian',\n",
        "        'image_url': 'http://example.com/hawaian_pizza.jpg'\n",
        "    },\n",
        "    {\n",
        "        'name': 'margerita',\n",
        "        'image_url': 'http://example.com/margerita.jpg'\n",
        "    }\n",
        "]\n",
        "\n",
        "#we'll now search by the dictionary index\n",
        "@app.route('/<int:index>') \n",
        "\n",
        "def getPizza(index):\n",
        "  \n",
        "  return jsonify(pizza[index])\n",
        "\n",
        "if __name__ == '__main__':\n",
        "  app.run(debug=True)"
      ],
      "execution_count": 0,
      "outputs": []
    },
    {
      "cell_type": "markdown",
      "metadata": {
        "id": "59gxh6ni1UUs",
        "colab_type": "text"
      },
      "source": [
        "But what if the index does not exist?\n",
        "\n",
        "-> Return 404 error"
      ]
    },
    {
      "cell_type": "code",
      "metadata": {
        "id": "v3nLI46e1pKC",
        "colab_type": "code",
        "colab": {}
      },
      "source": [
        "from flask import Flask, jsonify, abort\n",
        "\n",
        "app = Flask(__name__)\n",
        "\n",
        "pizza = [\n",
        "    {\n",
        "        'name': 'hawaian',\n",
        "        'image_url': 'http://example.com/hawaian_pizza.jpg'\n",
        "    },\n",
        "    {\n",
        "        'name': 'margerita',\n",
        "        'image_url': 'http://example.com/margerita.jpg'\n",
        "    }\n",
        "]\n",
        "\n",
        "#we'll now search by the dictionary index\n",
        "@app.route('/<int:index>') \n",
        "\n",
        "def getPizza(index):\n",
        "  \n",
        "  try:\n",
        "    return jsonify(pizza[index])\n",
        "  except IndexError:\n",
        "    abort(404)\n",
        "\n",
        "if __name__ == '__main__':\n",
        "  app.run(debug=True)"
      ],
      "execution_count": 0,
      "outputs": []
    },
    {
      "cell_type": "markdown",
      "metadata": {
        "id": "mW0J12Uf17N5",
        "colab_type": "text"
      },
      "source": [
        "Why search by the index while we can search the pizza by its name?"
      ]
    },
    {
      "cell_type": "code",
      "metadata": {
        "id": "preL5ecn2Fe5",
        "colab_type": "code",
        "colab": {}
      },
      "source": [
        "from flask import Flask, jsonify, abort\n",
        "\n",
        "app = Flask(__name__)\n",
        "\n",
        "pizza = [\n",
        "    'hawaian': {\n",
        "        'name': 'hawaian',\n",
        "        'image_url': 'http://example.com/hawaian_pizza.jpg'\n",
        "    },\n",
        "    'margerita': {\n",
        "        'name': 'margerita',\n",
        "        'image_url': 'http://example.com/margerita.jpg'\n",
        "    }\n",
        "]\n",
        "\n",
        "#we'll now search by the dictionary index\n",
        "@app.route('/<slug>') \n",
        "\n",
        "def getPizza(slug):\n",
        "  \n",
        "  try:\n",
        "    return jsonify(pizza[slug])\n",
        "  except IndexError:\n",
        "    abort(404)\n",
        "\n",
        "if __name__ == '__main__':\n",
        "  app.run(debug=True)"
      ],
      "execution_count": 0,
      "outputs": []
    },
    {
      "cell_type": "markdown",
      "metadata": {
        "id": "C0S31IEY2Ye5",
        "colab_type": "text"
      },
      "source": [
        "###Fetch from database"
      ]
    },
    {
      "cell_type": "markdown",
      "metadata": {
        "id": "Rp6vfaVOCxhx",
        "colab_type": "text"
      },
      "source": [
        "Let's define our db model"
      ]
    },
    {
      "cell_type": "code",
      "metadata": {
        "id": "wS-pcz1i2an1",
        "colab_type": "code",
        "colab": {}
      },
      "source": [
        "from flask_sqlalchemy import flask_sqlalchemy\n",
        "\n",
        "db = SQLAlchemy()\n",
        "\n",
        "class pizza(db.Model):\n",
        "  id = db.Column(db.Integer, primary_key=True)\n",
        "  slug = db.Column(db.String(30), index=True)\n",
        "  name = db.Column(db.String(30), nullable=False)\n",
        "  image_url = db.Column(db.String(150), nullable=False)"
      ],
      "execution_count": 0,
      "outputs": []
    },
    {
      "cell_type": "markdown",
      "metadata": {
        "id": "wUyk6c1ZDAO0",
        "colab_type": "text"
      },
      "source": [
        "Let's save the pizzas to the db"
      ]
    },
    {
      "cell_type": "code",
      "metadata": {
        "id": "an65OhLJ27MF",
        "colab_type": "code",
        "colab": {}
      },
      "source": [
        "from flask import Flask, jsonify\n",
        "from models import db, Pizza\n",
        "import sys\n",
        "\n",
        "app = Flask(__name__)\n",
        "app.config['SQLALCHEMY_DATABASE_URI'] = 'sqlite:///pizza.db'\n",
        "db.init_app(app)\n",
        "\n",
        "@app.route('/<slug>')\n",
        "def getPizza(slug):\n",
        "  pizza = Pizza.query.filter(Pizza.slug==slug).first_or_404()\n",
        "  my_pizza = {\n",
        "      'name': pizza.name,\n",
        "      'image_url': pizza.image_url\n",
        "  }\n",
        "  return jsonify(my_pizza)\n",
        "\n",
        "if __name__ == '__main__':\n",
        "  if 'createdb' in sys.argv:\n",
        "    with app.app_context():\n",
        "      db.create_all()\n",
        "    print('Database created')\n",
        "  elif 'seeddb' in sys.argv:\n",
        "    with app.app.context():\n",
        "      pizza1 = Pizza(slug='hawaian', \n",
        "                     name='hawaian', \n",
        "                     image_url='http://example.com/hawaian.jpg')\n",
        "      db.session.add(pizza1)\n",
        "      pizza2 = Pizza(slug='margerita',\n",
        "                     name='margerita',\n",
        "                     image_url='http://example.com/margerita.jpg')\n",
        "      db.session.add(pizza2)\n",
        "      db.session.commit()\n",
        "    print('saved to database')\n",
        "  else:\n",
        "    app.run(debug=True)"
      ],
      "execution_count": 0,
      "outputs": []
    },
    {
      "cell_type": "code",
      "metadata": {
        "id": "-PPra37L6_-_",
        "colab_type": "code",
        "colab": {}
      },
      "source": [
        "#To run it from the terminal:\n",
        "python api_file.py createdb seeddb"
      ],
      "execution_count": 0,
      "outputs": []
    },
    {
      "cell_type": "markdown",
      "metadata": {
        "id": "ERyHgW3p7Sxh",
        "colab_type": "text"
      },
      "source": [
        "Let's save the pizza by POST"
      ]
    },
    {
      "cell_type": "code",
      "metadata": {
        "id": "fHKqm79d7ZwE",
        "colab_type": "code",
        "colab": {}
      },
      "source": [
        "@app.route('/', methods=['POST'])\n",
        "def create_pizza():\n",
        "  #validate\n",
        "  name = request.form.get('name')\n",
        "  if not name:\n",
        "    return 'parameter required', 400\n",
        "  image_url = request.form.get('image_url')\n",
        "  if not image_url:\n",
        "    return 'parameter required', 400\n",
        "  slug = slugify(name)\n",
        "  \n",
        "  #save in db\n",
        "  pizza = Pizza(slug=slug, name=name, image_url=image_url)\n",
        "  db.session.add(pizza)\n",
        "  db.session.commit(pizza)\n",
        "  \n",
        "  #response\n",
        "  res = jsonify({'message':'pizza sucessfully created'})\n",
        "  res.status_code = 201\n",
        "  location = url_for('get_pizza', slug=slug)\n",
        "  resp.headers['location'] = location\n",
        "  return res\n",
        "  "
      ],
      "execution_count": 0,
      "outputs": []
    }
  ]
}